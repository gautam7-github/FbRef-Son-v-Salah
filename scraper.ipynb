{
 "cells": [
  {
   "cell_type": "code",
   "execution_count": 2,
   "metadata": {},
   "outputs": [],
   "source": [
    "salah = \"https://fbref.com/en/players/e342ad68/Mohamed-Salah\"\n",
    "son = \"https://fbref.com/en/players/92e7e919/Son-Heung-min\""
   ]
  },
  {
   "cell_type": "code",
   "execution_count": 1,
   "metadata": {},
   "outputs": [],
   "source": [
    "import pandas as pd\n",
    "import requests"
   ]
  },
  {
   "cell_type": "code",
   "execution_count": 4,
   "metadata": {},
   "outputs": [],
   "source": [
    "sonTables = pd.read_html(son)\n",
    "salahTables = pd.read_html(salah)"
   ]
  },
  {
   "cell_type": "code",
   "execution_count": 5,
   "metadata": {},
   "outputs": [],
   "source": [
    "sonTables[0].dropna().to_csv('data/son_main_data.csv',index=False)\n",
    "salahTables[0].dropna().to_csv('data/salah_main_data.csv',index=False)"
   ]
  },
  {
   "cell_type": "markdown",
   "metadata": {},
   "source": [
    "# New Report"
   ]
  },
  {
   "cell_type": "code",
   "execution_count": 9,
   "metadata": {},
   "outputs": [],
   "source": [
    "sonRep = \"https://fbref.com/en/players/92e7e919/scout/11160/Son-Heung-min-Scouting-Report\"\n",
    "salahRep = \"https://fbref.com/en/players/e342ad68/scout/11160/Mohamed-Salah-Scouting-Report\""
   ]
  },
  {
   "cell_type": "code",
   "execution_count": 10,
   "metadata": {},
   "outputs": [],
   "source": [
    "dfson = pd.read_html(sonRep)\n",
    "dfsalah = pd.read_html(salahRep)"
   ]
  },
  {
   "cell_type": "code",
   "execution_count": 11,
   "metadata": {},
   "outputs": [],
   "source": [
    "dfson[0].dropna().to_csv(\"./data/son_full_report.csv\")\n",
    "dfsalah[0].dropna().to_csv(\"./data/salah_full_report.csv\")"
   ]
  }
 ],
 "metadata": {
  "kernelspec": {
   "display_name": "Python 3.8.1 64-bit",
   "language": "python",
   "name": "python3"
  },
  "language_info": {
   "codemirror_mode": {
    "name": "ipython",
    "version": 3
   },
   "file_extension": ".py",
   "mimetype": "text/x-python",
   "name": "python",
   "nbconvert_exporter": "python",
   "pygments_lexer": "ipython3",
   "version": "3.8.1"
  },
  "orig_nbformat": 4,
  "vscode": {
   "interpreter": {
    "hash": "03bb991457d37ae7114e465a4e1fddf1bc1040c6df8c60b0a6698575164d41d7"
   }
  }
 },
 "nbformat": 4,
 "nbformat_minor": 2
}
